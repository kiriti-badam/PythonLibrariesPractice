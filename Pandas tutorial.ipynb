{
 "cells": [
  {
   "cell_type": "code",
   "execution_count": 1,
   "metadata": {
    "collapsed": true
   },
   "outputs": [],
   "source": [
    "import pandas as pd\n",
    "import numpy as np\n",
    "import matplotlib.pyplot as plt"
   ]
  },
  {
   "cell_type": "markdown",
   "metadata": {},
   "source": [
    "Creating a Pandas Series object"
   ]
  },
  {
   "cell_type": "code",
   "execution_count": 4,
   "metadata": {
    "collapsed": false
   },
   "outputs": [
    {
     "name": "stdout",
     "output_type": "stream",
     "text": [
      "0     1.0\n",
      "1     2.0\n",
      "2     3.0\n",
      "3     NaN\n",
      "4    10.0\n",
      "dtype: float64\n"
     ]
    }
   ],
   "source": [
    "s = pd.Series([1,2,3,np.nan, 10])\n",
    "print(s)"
   ]
  },
  {
   "cell_type": "code",
   "execution_count": 10,
   "metadata": {
    "collapsed": false
   },
   "outputs": [
    {
     "name": "stdout",
     "output_type": "stream",
     "text": [
      "DatetimeIndex(['2017-08-01', '2017-08-02', '2017-08-03', '2017-08-04',\n",
      "               '2017-08-05', '2017-08-06', '2017-08-07', '2017-08-08',\n",
      "               '2017-08-09', '2017-08-10'],\n",
      "              dtype='datetime64[ns]', freq='D')\n"
     ]
    },
    {
     "data": {
      "text/html": [
       "<div>\n",
       "<style>\n",
       "    .dataframe thead tr:only-child th {\n",
       "        text-align: right;\n",
       "    }\n",
       "\n",
       "    .dataframe thead th {\n",
       "        text-align: left;\n",
       "    }\n",
       "\n",
       "    .dataframe tbody tr th {\n",
       "        vertical-align: top;\n",
       "    }\n",
       "</style>\n",
       "<table border=\"1\" class=\"dataframe\">\n",
       "  <thead>\n",
       "    <tr style=\"text-align: right;\">\n",
       "      <th></th>\n",
       "      <th>A</th>\n",
       "      <th>B</th>\n",
       "      <th>C</th>\n",
       "      <th>D</th>\n",
       "    </tr>\n",
       "  </thead>\n",
       "  <tbody>\n",
       "    <tr>\n",
       "      <th>2017-08-01</th>\n",
       "      <td>0.767187</td>\n",
       "      <td>-0.054625</td>\n",
       "      <td>1.590607</td>\n",
       "      <td>-0.791468</td>\n",
       "    </tr>\n",
       "    <tr>\n",
       "      <th>2017-08-02</th>\n",
       "      <td>0.341900</td>\n",
       "      <td>0.926485</td>\n",
       "      <td>-0.270759</td>\n",
       "      <td>0.732538</td>\n",
       "    </tr>\n",
       "    <tr>\n",
       "      <th>2017-08-03</th>\n",
       "      <td>-0.392693</td>\n",
       "      <td>-0.168523</td>\n",
       "      <td>-1.815978</td>\n",
       "      <td>-0.441589</td>\n",
       "    </tr>\n",
       "    <tr>\n",
       "      <th>2017-08-04</th>\n",
       "      <td>-0.416511</td>\n",
       "      <td>-0.330740</td>\n",
       "      <td>-0.817551</td>\n",
       "      <td>1.057030</td>\n",
       "    </tr>\n",
       "    <tr>\n",
       "      <th>2017-08-05</th>\n",
       "      <td>0.530754</td>\n",
       "      <td>-1.279534</td>\n",
       "      <td>0.798434</td>\n",
       "      <td>0.417356</td>\n",
       "    </tr>\n",
       "    <tr>\n",
       "      <th>2017-08-06</th>\n",
       "      <td>-0.702763</td>\n",
       "      <td>-0.303106</td>\n",
       "      <td>-1.542699</td>\n",
       "      <td>2.810941</td>\n",
       "    </tr>\n",
       "    <tr>\n",
       "      <th>2017-08-07</th>\n",
       "      <td>1.022777</td>\n",
       "      <td>0.228942</td>\n",
       "      <td>1.128929</td>\n",
       "      <td>0.308503</td>\n",
       "    </tr>\n",
       "    <tr>\n",
       "      <th>2017-08-08</th>\n",
       "      <td>1.847030</td>\n",
       "      <td>-1.330483</td>\n",
       "      <td>1.636400</td>\n",
       "      <td>-1.498886</td>\n",
       "    </tr>\n",
       "    <tr>\n",
       "      <th>2017-08-09</th>\n",
       "      <td>-0.739180</td>\n",
       "      <td>-1.866896</td>\n",
       "      <td>-0.062221</td>\n",
       "      <td>0.739500</td>\n",
       "    </tr>\n",
       "    <tr>\n",
       "      <th>2017-08-10</th>\n",
       "      <td>-0.941687</td>\n",
       "      <td>1.594801</td>\n",
       "      <td>-0.967864</td>\n",
       "      <td>-1.427584</td>\n",
       "    </tr>\n",
       "  </tbody>\n",
       "</table>\n",
       "</div>"
      ],
      "text/plain": [
       "                   A         B         C         D\n",
       "2017-08-01  0.767187 -0.054625  1.590607 -0.791468\n",
       "2017-08-02  0.341900  0.926485 -0.270759  0.732538\n",
       "2017-08-03 -0.392693 -0.168523 -1.815978 -0.441589\n",
       "2017-08-04 -0.416511 -0.330740 -0.817551  1.057030\n",
       "2017-08-05  0.530754 -1.279534  0.798434  0.417356\n",
       "2017-08-06 -0.702763 -0.303106 -1.542699  2.810941\n",
       "2017-08-07  1.022777  0.228942  1.128929  0.308503\n",
       "2017-08-08  1.847030 -1.330483  1.636400 -1.498886\n",
       "2017-08-09 -0.739180 -1.866896 -0.062221  0.739500\n",
       "2017-08-10 -0.941687  1.594801 -0.967864 -1.427584"
      ]
     },
     "execution_count": 10,
     "metadata": {},
     "output_type": "execute_result"
    }
   ],
   "source": [
    "dates = pd.date_range(start=\"20170801\", periods=10)\n",
    "print(dates)\n",
    "\n",
    "#Randomly creating a data frame with datetime index and labeled columns\n",
    "df = pd.DataFrame(np.random.randn(10, 4), index=dates, columns=list(\"ABCD\"))\n",
    "df"
   ]
  },
  {
   "cell_type": "code",
   "execution_count": 14,
   "metadata": {
    "collapsed": false
   },
   "outputs": [
    {
     "name": "stdout",
     "output_type": "stream",
     "text": [
      "A           float64\n",
      "B    datetime64[ns]\n",
      "C           float64\n",
      "D             int64\n",
      "E            object\n",
      "F             int32\n",
      "G          category\n",
      "dtype: object\n"
     ]
    },
    {
     "data": {
      "text/html": [
       "<div>\n",
       "<style>\n",
       "    .dataframe thead tr:only-child th {\n",
       "        text-align: right;\n",
       "    }\n",
       "\n",
       "    .dataframe thead th {\n",
       "        text-align: left;\n",
       "    }\n",
       "\n",
       "    .dataframe tbody tr th {\n",
       "        vertical-align: top;\n",
       "    }\n",
       "</style>\n",
       "<table border=\"1\" class=\"dataframe\">\n",
       "  <thead>\n",
       "    <tr style=\"text-align: right;\">\n",
       "      <th></th>\n",
       "      <th>A</th>\n",
       "      <th>B</th>\n",
       "      <th>C</th>\n",
       "      <th>D</th>\n",
       "      <th>E</th>\n",
       "      <th>F</th>\n",
       "      <th>G</th>\n",
       "    </tr>\n",
       "  </thead>\n",
       "  <tbody>\n",
       "    <tr>\n",
       "      <th>0</th>\n",
       "      <td>1.0</td>\n",
       "      <td>2017-08-02</td>\n",
       "      <td>1.0</td>\n",
       "      <td>1</td>\n",
       "      <td>String</td>\n",
       "      <td>1</td>\n",
       "      <td>test</td>\n",
       "    </tr>\n",
       "    <tr>\n",
       "      <th>1</th>\n",
       "      <td>1.0</td>\n",
       "      <td>2017-08-02</td>\n",
       "      <td>2.0</td>\n",
       "      <td>2</td>\n",
       "      <td>String</td>\n",
       "      <td>2</td>\n",
       "      <td>train</td>\n",
       "    </tr>\n",
       "    <tr>\n",
       "      <th>2</th>\n",
       "      <td>1.0</td>\n",
       "      <td>2017-08-02</td>\n",
       "      <td>3.0</td>\n",
       "      <td>3</td>\n",
       "      <td>String</td>\n",
       "      <td>3</td>\n",
       "      <td>test</td>\n",
       "    </tr>\n",
       "    <tr>\n",
       "      <th>3</th>\n",
       "      <td>1.0</td>\n",
       "      <td>2017-08-02</td>\n",
       "      <td>NaN</td>\n",
       "      <td>10</td>\n",
       "      <td>String</td>\n",
       "      <td>4</td>\n",
       "      <td>train</td>\n",
       "    </tr>\n",
       "  </tbody>\n",
       "</table>\n",
       "</div>"
      ],
      "text/plain": [
       "     A          B    C   D       E  F      G\n",
       "0  1.0 2017-08-02  1.0   1  String  1   test\n",
       "1  1.0 2017-08-02  2.0   2  String  2  train\n",
       "2  1.0 2017-08-02  3.0   3  String  3   test\n",
       "3  1.0 2017-08-02  NaN  10  String  4  train"
      ]
     },
     "execution_count": 14,
     "metadata": {},
     "output_type": "execute_result"
    }
   ],
   "source": [
    "# Creating a dataframe from a dict object.\n",
    "df2 = pd.DataFrame({\"A\":1.,\n",
    "                   \"B\":pd.Timestamp('20170802'),\n",
    "                   \"C\":pd.Series([1,2,3,np.nan]),\n",
    "                   \"D\":[1,2,3,10],\n",
    "                   \"E\":\"String\",\n",
    "                   \"F\":np.asarray([1,2,3,4]),\n",
    "                   \"G\":pd.Categorical([\"test\",\"train\",\"test\",\"train\"])\n",
    "                   })\n",
    "print(df2.dtypes)\n",
    "df2"
   ]
  },
  {
   "cell_type": "markdown",
   "metadata": {},
   "source": [
    "### Viewing the data\n",
    "First or last 5 lines can be viewed using the head/tail command."
   ]
  },
  {
   "cell_type": "code",
   "execution_count": 18,
   "metadata": {
    "collapsed": false
   },
   "outputs": [
    {
     "data": {
      "text/html": [
       "<div>\n",
       "<style>\n",
       "    .dataframe thead tr:only-child th {\n",
       "        text-align: right;\n",
       "    }\n",
       "\n",
       "    .dataframe thead th {\n",
       "        text-align: left;\n",
       "    }\n",
       "\n",
       "    .dataframe tbody tr th {\n",
       "        vertical-align: top;\n",
       "    }\n",
       "</style>\n",
       "<table border=\"1\" class=\"dataframe\">\n",
       "  <thead>\n",
       "    <tr style=\"text-align: right;\">\n",
       "      <th></th>\n",
       "      <th>A</th>\n",
       "      <th>B</th>\n",
       "      <th>C</th>\n",
       "      <th>D</th>\n",
       "    </tr>\n",
       "  </thead>\n",
       "  <tbody>\n",
       "    <tr>\n",
       "      <th>2017-08-01</th>\n",
       "      <td>0.767187</td>\n",
       "      <td>-0.054625</td>\n",
       "      <td>1.590607</td>\n",
       "      <td>-0.791468</td>\n",
       "    </tr>\n",
       "    <tr>\n",
       "      <th>2017-08-02</th>\n",
       "      <td>0.341900</td>\n",
       "      <td>0.926485</td>\n",
       "      <td>-0.270759</td>\n",
       "      <td>0.732538</td>\n",
       "    </tr>\n",
       "    <tr>\n",
       "      <th>2017-08-03</th>\n",
       "      <td>-0.392693</td>\n",
       "      <td>-0.168523</td>\n",
       "      <td>-1.815978</td>\n",
       "      <td>-0.441589</td>\n",
       "    </tr>\n",
       "    <tr>\n",
       "      <th>2017-08-04</th>\n",
       "      <td>-0.416511</td>\n",
       "      <td>-0.330740</td>\n",
       "      <td>-0.817551</td>\n",
       "      <td>1.057030</td>\n",
       "    </tr>\n",
       "    <tr>\n",
       "      <th>2017-08-05</th>\n",
       "      <td>0.530754</td>\n",
       "      <td>-1.279534</td>\n",
       "      <td>0.798434</td>\n",
       "      <td>0.417356</td>\n",
       "    </tr>\n",
       "  </tbody>\n",
       "</table>\n",
       "</div>"
      ],
      "text/plain": [
       "                   A         B         C         D\n",
       "2017-08-01  0.767187 -0.054625  1.590607 -0.791468\n",
       "2017-08-02  0.341900  0.926485 -0.270759  0.732538\n",
       "2017-08-03 -0.392693 -0.168523 -1.815978 -0.441589\n",
       "2017-08-04 -0.416511 -0.330740 -0.817551  1.057030\n",
       "2017-08-05  0.530754 -1.279534  0.798434  0.417356"
      ]
     },
     "execution_count": 18,
     "metadata": {},
     "output_type": "execute_result"
    }
   ],
   "source": [
    "df.head()"
   ]
  },
  {
   "cell_type": "code",
   "execution_count": 19,
   "metadata": {
    "collapsed": false
   },
   "outputs": [
    {
     "data": {
      "text/html": [
       "<div>\n",
       "<style>\n",
       "    .dataframe thead tr:only-child th {\n",
       "        text-align: right;\n",
       "    }\n",
       "\n",
       "    .dataframe thead th {\n",
       "        text-align: left;\n",
       "    }\n",
       "\n",
       "    .dataframe tbody tr th {\n",
       "        vertical-align: top;\n",
       "    }\n",
       "</style>\n",
       "<table border=\"1\" class=\"dataframe\">\n",
       "  <thead>\n",
       "    <tr style=\"text-align: right;\">\n",
       "      <th></th>\n",
       "      <th>A</th>\n",
       "      <th>B</th>\n",
       "      <th>C</th>\n",
       "      <th>D</th>\n",
       "    </tr>\n",
       "  </thead>\n",
       "  <tbody>\n",
       "    <tr>\n",
       "      <th>2017-08-06</th>\n",
       "      <td>-0.702763</td>\n",
       "      <td>-0.303106</td>\n",
       "      <td>-1.542699</td>\n",
       "      <td>2.810941</td>\n",
       "    </tr>\n",
       "    <tr>\n",
       "      <th>2017-08-07</th>\n",
       "      <td>1.022777</td>\n",
       "      <td>0.228942</td>\n",
       "      <td>1.128929</td>\n",
       "      <td>0.308503</td>\n",
       "    </tr>\n",
       "    <tr>\n",
       "      <th>2017-08-08</th>\n",
       "      <td>1.847030</td>\n",
       "      <td>-1.330483</td>\n",
       "      <td>1.636400</td>\n",
       "      <td>-1.498886</td>\n",
       "    </tr>\n",
       "    <tr>\n",
       "      <th>2017-08-09</th>\n",
       "      <td>-0.739180</td>\n",
       "      <td>-1.866896</td>\n",
       "      <td>-0.062221</td>\n",
       "      <td>0.739500</td>\n",
       "    </tr>\n",
       "    <tr>\n",
       "      <th>2017-08-10</th>\n",
       "      <td>-0.941687</td>\n",
       "      <td>1.594801</td>\n",
       "      <td>-0.967864</td>\n",
       "      <td>-1.427584</td>\n",
       "    </tr>\n",
       "  </tbody>\n",
       "</table>\n",
       "</div>"
      ],
      "text/plain": [
       "                   A         B         C         D\n",
       "2017-08-06 -0.702763 -0.303106 -1.542699  2.810941\n",
       "2017-08-07  1.022777  0.228942  1.128929  0.308503\n",
       "2017-08-08  1.847030 -1.330483  1.636400 -1.498886\n",
       "2017-08-09 -0.739180 -1.866896 -0.062221  0.739500\n",
       "2017-08-10 -0.941687  1.594801 -0.967864 -1.427584"
      ]
     },
     "execution_count": 19,
     "metadata": {},
     "output_type": "execute_result"
    }
   ],
   "source": [
    "df.tail()"
   ]
  },
  {
   "cell_type": "markdown",
   "metadata": {},
   "source": [
    "**describe()** shows a quick summary of the data, which is mainly corresponding numerical data. Hence it skips the columns which don't have entirely numerical data. Eg: columns B, E and G are skipped in the dataframe df2."
   ]
  },
  {
   "cell_type": "code",
   "execution_count": 23,
   "metadata": {
    "collapsed": false
   },
   "outputs": [
    {
     "data": {
      "text/html": [
       "<div>\n",
       "<style>\n",
       "    .dataframe thead tr:only-child th {\n",
       "        text-align: right;\n",
       "    }\n",
       "\n",
       "    .dataframe thead th {\n",
       "        text-align: left;\n",
       "    }\n",
       "\n",
       "    .dataframe tbody tr th {\n",
       "        vertical-align: top;\n",
       "    }\n",
       "</style>\n",
       "<table border=\"1\" class=\"dataframe\">\n",
       "  <thead>\n",
       "    <tr style=\"text-align: right;\">\n",
       "      <th></th>\n",
       "      <th>A</th>\n",
       "      <th>C</th>\n",
       "      <th>D</th>\n",
       "      <th>F</th>\n",
       "    </tr>\n",
       "  </thead>\n",
       "  <tbody>\n",
       "    <tr>\n",
       "      <th>count</th>\n",
       "      <td>4.0</td>\n",
       "      <td>3.0</td>\n",
       "      <td>4.000000</td>\n",
       "      <td>4.000000</td>\n",
       "    </tr>\n",
       "    <tr>\n",
       "      <th>mean</th>\n",
       "      <td>1.0</td>\n",
       "      <td>2.0</td>\n",
       "      <td>4.000000</td>\n",
       "      <td>2.500000</td>\n",
       "    </tr>\n",
       "    <tr>\n",
       "      <th>std</th>\n",
       "      <td>0.0</td>\n",
       "      <td>1.0</td>\n",
       "      <td>4.082483</td>\n",
       "      <td>1.290994</td>\n",
       "    </tr>\n",
       "    <tr>\n",
       "      <th>min</th>\n",
       "      <td>1.0</td>\n",
       "      <td>1.0</td>\n",
       "      <td>1.000000</td>\n",
       "      <td>1.000000</td>\n",
       "    </tr>\n",
       "    <tr>\n",
       "      <th>25%</th>\n",
       "      <td>1.0</td>\n",
       "      <td>1.5</td>\n",
       "      <td>1.750000</td>\n",
       "      <td>1.750000</td>\n",
       "    </tr>\n",
       "    <tr>\n",
       "      <th>50%</th>\n",
       "      <td>1.0</td>\n",
       "      <td>2.0</td>\n",
       "      <td>2.500000</td>\n",
       "      <td>2.500000</td>\n",
       "    </tr>\n",
       "    <tr>\n",
       "      <th>75%</th>\n",
       "      <td>1.0</td>\n",
       "      <td>2.5</td>\n",
       "      <td>4.750000</td>\n",
       "      <td>3.250000</td>\n",
       "    </tr>\n",
       "    <tr>\n",
       "      <th>max</th>\n",
       "      <td>1.0</td>\n",
       "      <td>3.0</td>\n",
       "      <td>10.000000</td>\n",
       "      <td>4.000000</td>\n",
       "    </tr>\n",
       "  </tbody>\n",
       "</table>\n",
       "</div>"
      ],
      "text/plain": [
       "         A    C          D         F\n",
       "count  4.0  3.0   4.000000  4.000000\n",
       "mean   1.0  2.0   4.000000  2.500000\n",
       "std    0.0  1.0   4.082483  1.290994\n",
       "min    1.0  1.0   1.000000  1.000000\n",
       "25%    1.0  1.5   1.750000  1.750000\n",
       "50%    1.0  2.0   2.500000  2.500000\n",
       "75%    1.0  2.5   4.750000  3.250000\n",
       "max    1.0  3.0  10.000000  4.000000"
      ]
     },
     "execution_count": 23,
     "metadata": {},
     "output_type": "execute_result"
    }
   ],
   "source": [
    "df2.describe()"
   ]
  },
  {
   "cell_type": "markdown",
   "metadata": {},
   "source": [
    "df.index() gives the kind of index used the by dataframe. It either returns a DateTimeIndex object, as in case of df or returns a rangeIndex object, when the indices used in the dataframe are numbers, in the case of df2."
   ]
  },
  {
   "cell_type": "code",
   "execution_count": 29,
   "metadata": {
    "collapsed": false
   },
   "outputs": [
    {
     "data": {
      "text/plain": [
       "DatetimeIndex(['2017-08-01', '2017-08-02', '2017-08-03', '2017-08-04',\n",
       "               '2017-08-05', '2017-08-06', '2017-08-07', '2017-08-08',\n",
       "               '2017-08-09', '2017-08-10'],\n",
       "              dtype='datetime64[ns]', freq='D')"
      ]
     },
     "execution_count": 29,
     "metadata": {},
     "output_type": "execute_result"
    }
   ],
   "source": [
    "df.index"
   ]
  },
  {
   "cell_type": "code",
   "execution_count": 30,
   "metadata": {
    "collapsed": false
   },
   "outputs": [
    {
     "data": {
      "text/plain": [
       "RangeIndex(start=0, stop=4, step=1)"
      ]
     },
     "execution_count": 30,
     "metadata": {},
     "output_type": "execute_result"
    }
   ],
   "source": [
    "df2.index"
   ]
  },
  {
   "cell_type": "markdown",
   "metadata": {},
   "source": [
    "The data can be viewed in different forms by sorting the order in which the columns and rows are displayed.\n",
    "`df.sort_index(axis=0)` sorts the data based on the index column.\n",
    "`df.sort_index(axis=1)` sorts the data based on the column names."
   ]
  },
  {
   "cell_type": "code",
   "execution_count": 37,
   "metadata": {
    "collapsed": false
   },
   "outputs": [
    {
     "data": {
      "text/html": [
       "<div>\n",
       "<style>\n",
       "    .dataframe thead tr:only-child th {\n",
       "        text-align: right;\n",
       "    }\n",
       "\n",
       "    .dataframe thead th {\n",
       "        text-align: left;\n",
       "    }\n",
       "\n",
       "    .dataframe tbody tr th {\n",
       "        vertical-align: top;\n",
       "    }\n",
       "</style>\n",
       "<table border=\"1\" class=\"dataframe\">\n",
       "  <thead>\n",
       "    <tr style=\"text-align: right;\">\n",
       "      <th></th>\n",
       "      <th>D</th>\n",
       "      <th>C</th>\n",
       "      <th>B</th>\n",
       "      <th>A</th>\n",
       "    </tr>\n",
       "  </thead>\n",
       "  <tbody>\n",
       "    <tr>\n",
       "      <th>2017-08-01</th>\n",
       "      <td>-0.791468</td>\n",
       "      <td>1.590607</td>\n",
       "      <td>-0.054625</td>\n",
       "      <td>0.767187</td>\n",
       "    </tr>\n",
       "    <tr>\n",
       "      <th>2017-08-02</th>\n",
       "      <td>0.732538</td>\n",
       "      <td>-0.270759</td>\n",
       "      <td>0.926485</td>\n",
       "      <td>0.341900</td>\n",
       "    </tr>\n",
       "    <tr>\n",
       "      <th>2017-08-03</th>\n",
       "      <td>-0.441589</td>\n",
       "      <td>-1.815978</td>\n",
       "      <td>-0.168523</td>\n",
       "      <td>-0.392693</td>\n",
       "    </tr>\n",
       "    <tr>\n",
       "      <th>2017-08-04</th>\n",
       "      <td>1.057030</td>\n",
       "      <td>-0.817551</td>\n",
       "      <td>-0.330740</td>\n",
       "      <td>-0.416511</td>\n",
       "    </tr>\n",
       "    <tr>\n",
       "      <th>2017-08-05</th>\n",
       "      <td>0.417356</td>\n",
       "      <td>0.798434</td>\n",
       "      <td>-1.279534</td>\n",
       "      <td>0.530754</td>\n",
       "    </tr>\n",
       "    <tr>\n",
       "      <th>2017-08-06</th>\n",
       "      <td>2.810941</td>\n",
       "      <td>-1.542699</td>\n",
       "      <td>-0.303106</td>\n",
       "      <td>-0.702763</td>\n",
       "    </tr>\n",
       "    <tr>\n",
       "      <th>2017-08-07</th>\n",
       "      <td>0.308503</td>\n",
       "      <td>1.128929</td>\n",
       "      <td>0.228942</td>\n",
       "      <td>1.022777</td>\n",
       "    </tr>\n",
       "    <tr>\n",
       "      <th>2017-08-08</th>\n",
       "      <td>-1.498886</td>\n",
       "      <td>1.636400</td>\n",
       "      <td>-1.330483</td>\n",
       "      <td>1.847030</td>\n",
       "    </tr>\n",
       "    <tr>\n",
       "      <th>2017-08-09</th>\n",
       "      <td>0.739500</td>\n",
       "      <td>-0.062221</td>\n",
       "      <td>-1.866896</td>\n",
       "      <td>-0.739180</td>\n",
       "    </tr>\n",
       "    <tr>\n",
       "      <th>2017-08-10</th>\n",
       "      <td>-1.427584</td>\n",
       "      <td>-0.967864</td>\n",
       "      <td>1.594801</td>\n",
       "      <td>-0.941687</td>\n",
       "    </tr>\n",
       "  </tbody>\n",
       "</table>\n",
       "</div>"
      ],
      "text/plain": [
       "                   D         C         B         A\n",
       "2017-08-01 -0.791468  1.590607 -0.054625  0.767187\n",
       "2017-08-02  0.732538 -0.270759  0.926485  0.341900\n",
       "2017-08-03 -0.441589 -1.815978 -0.168523 -0.392693\n",
       "2017-08-04  1.057030 -0.817551 -0.330740 -0.416511\n",
       "2017-08-05  0.417356  0.798434 -1.279534  0.530754\n",
       "2017-08-06  2.810941 -1.542699 -0.303106 -0.702763\n",
       "2017-08-07  0.308503  1.128929  0.228942  1.022777\n",
       "2017-08-08 -1.498886  1.636400 -1.330483  1.847030\n",
       "2017-08-09  0.739500 -0.062221 -1.866896 -0.739180\n",
       "2017-08-10 -1.427584 -0.967864  1.594801 -0.941687"
      ]
     },
     "execution_count": 37,
     "metadata": {},
     "output_type": "execute_result"
    }
   ],
   "source": [
    "df.sort_index(axis=1, ascending=False)"
   ]
  },
  {
   "cell_type": "markdown",
   "metadata": {},
   "source": [
    "The data could also be displayed by sorting the dataframe based on values rather than their column headings or indices."
   ]
  },
  {
   "cell_type": "code",
   "execution_count": 39,
   "metadata": {
    "collapsed": false
   },
   "outputs": [
    {
     "data": {
      "text/html": [
       "<div>\n",
       "<style>\n",
       "    .dataframe thead tr:only-child th {\n",
       "        text-align: right;\n",
       "    }\n",
       "\n",
       "    .dataframe thead th {\n",
       "        text-align: left;\n",
       "    }\n",
       "\n",
       "    .dataframe tbody tr th {\n",
       "        vertical-align: top;\n",
       "    }\n",
       "</style>\n",
       "<table border=\"1\" class=\"dataframe\">\n",
       "  <thead>\n",
       "    <tr style=\"text-align: right;\">\n",
       "      <th></th>\n",
       "      <th>A</th>\n",
       "      <th>B</th>\n",
       "      <th>C</th>\n",
       "      <th>D</th>\n",
       "    </tr>\n",
       "  </thead>\n",
       "  <tbody>\n",
       "    <tr>\n",
       "      <th>2017-08-03</th>\n",
       "      <td>-0.392693</td>\n",
       "      <td>-0.168523</td>\n",
       "      <td>-1.815978</td>\n",
       "      <td>-0.441589</td>\n",
       "    </tr>\n",
       "    <tr>\n",
       "      <th>2017-08-06</th>\n",
       "      <td>-0.702763</td>\n",
       "      <td>-0.303106</td>\n",
       "      <td>-1.542699</td>\n",
       "      <td>2.810941</td>\n",
       "    </tr>\n",
       "    <tr>\n",
       "      <th>2017-08-10</th>\n",
       "      <td>-0.941687</td>\n",
       "      <td>1.594801</td>\n",
       "      <td>-0.967864</td>\n",
       "      <td>-1.427584</td>\n",
       "    </tr>\n",
       "    <tr>\n",
       "      <th>2017-08-04</th>\n",
       "      <td>-0.416511</td>\n",
       "      <td>-0.330740</td>\n",
       "      <td>-0.817551</td>\n",
       "      <td>1.057030</td>\n",
       "    </tr>\n",
       "    <tr>\n",
       "      <th>2017-08-02</th>\n",
       "      <td>0.341900</td>\n",
       "      <td>0.926485</td>\n",
       "      <td>-0.270759</td>\n",
       "      <td>0.732538</td>\n",
       "    </tr>\n",
       "    <tr>\n",
       "      <th>2017-08-09</th>\n",
       "      <td>-0.739180</td>\n",
       "      <td>-1.866896</td>\n",
       "      <td>-0.062221</td>\n",
       "      <td>0.739500</td>\n",
       "    </tr>\n",
       "    <tr>\n",
       "      <th>2017-08-05</th>\n",
       "      <td>0.530754</td>\n",
       "      <td>-1.279534</td>\n",
       "      <td>0.798434</td>\n",
       "      <td>0.417356</td>\n",
       "    </tr>\n",
       "    <tr>\n",
       "      <th>2017-08-07</th>\n",
       "      <td>1.022777</td>\n",
       "      <td>0.228942</td>\n",
       "      <td>1.128929</td>\n",
       "      <td>0.308503</td>\n",
       "    </tr>\n",
       "    <tr>\n",
       "      <th>2017-08-01</th>\n",
       "      <td>0.767187</td>\n",
       "      <td>-0.054625</td>\n",
       "      <td>1.590607</td>\n",
       "      <td>-0.791468</td>\n",
       "    </tr>\n",
       "    <tr>\n",
       "      <th>2017-08-08</th>\n",
       "      <td>1.847030</td>\n",
       "      <td>-1.330483</td>\n",
       "      <td>1.636400</td>\n",
       "      <td>-1.498886</td>\n",
       "    </tr>\n",
       "  </tbody>\n",
       "</table>\n",
       "</div>"
      ],
      "text/plain": [
       "                   A         B         C         D\n",
       "2017-08-03 -0.392693 -0.168523 -1.815978 -0.441589\n",
       "2017-08-06 -0.702763 -0.303106 -1.542699  2.810941\n",
       "2017-08-10 -0.941687  1.594801 -0.967864 -1.427584\n",
       "2017-08-04 -0.416511 -0.330740 -0.817551  1.057030\n",
       "2017-08-02  0.341900  0.926485 -0.270759  0.732538\n",
       "2017-08-09 -0.739180 -1.866896 -0.062221  0.739500\n",
       "2017-08-05  0.530754 -1.279534  0.798434  0.417356\n",
       "2017-08-07  1.022777  0.228942  1.128929  0.308503\n",
       "2017-08-01  0.767187 -0.054625  1.590607 -0.791468\n",
       "2017-08-08  1.847030 -1.330483  1.636400 -1.498886"
      ]
     },
     "execution_count": 39,
     "metadata": {},
     "output_type": "execute_result"
    }
   ],
   "source": [
    "df.sort_values(by=\"C\")\n",
    "# You can observe the C column being completed sorted in ascending order and the datetime index column is jumbled."
   ]
  },
  {
   "cell_type": "markdown",
   "metadata": {},
   "source": [
    "### Selection\n",
    "While standard Python / Numpy expressions for selecting and setting are intuitive and come in handy for interactive work, for production code, we recommend the optimized pandas data access methods, .at, .iat, .loc, .iloc and .ix.\n",
    "\n",
    "**Selection by label**"
   ]
  },
  {
   "cell_type": "code",
   "execution_count": 41,
   "metadata": {
    "collapsed": false
   },
   "outputs": [
    {
     "data": {
      "text/html": [
       "<div>\n",
       "<style>\n",
       "    .dataframe thead tr:only-child th {\n",
       "        text-align: right;\n",
       "    }\n",
       "\n",
       "    .dataframe thead th {\n",
       "        text-align: left;\n",
       "    }\n",
       "\n",
       "    .dataframe tbody tr th {\n",
       "        vertical-align: top;\n",
       "    }\n",
       "</style>\n",
       "<table border=\"1\" class=\"dataframe\">\n",
       "  <thead>\n",
       "    <tr style=\"text-align: right;\">\n",
       "      <th></th>\n",
       "      <th>C</th>\n",
       "      <th>D</th>\n",
       "    </tr>\n",
       "  </thead>\n",
       "  <tbody>\n",
       "    <tr>\n",
       "      <th>2017-08-03</th>\n",
       "      <td>-1.815978</td>\n",
       "      <td>-0.441589</td>\n",
       "    </tr>\n",
       "    <tr>\n",
       "      <th>2017-08-04</th>\n",
       "      <td>-0.817551</td>\n",
       "      <td>1.057030</td>\n",
       "    </tr>\n",
       "    <tr>\n",
       "      <th>2017-08-05</th>\n",
       "      <td>0.798434</td>\n",
       "      <td>0.417356</td>\n",
       "    </tr>\n",
       "    <tr>\n",
       "      <th>2017-08-06</th>\n",
       "      <td>-1.542699</td>\n",
       "      <td>2.810941</td>\n",
       "    </tr>\n",
       "  </tbody>\n",
       "</table>\n",
       "</div>"
      ],
      "text/plain": [
       "                   C         D\n",
       "2017-08-03 -1.815978 -0.441589\n",
       "2017-08-04 -0.817551  1.057030\n",
       "2017-08-05  0.798434  0.417356\n",
       "2017-08-06 -1.542699  2.810941"
      ]
     },
     "execution_count": 41,
     "metadata": {},
     "output_type": "execute_result"
    }
   ],
   "source": [
    "# Getting slices of the data by Pandas syntax\n",
    "# To get a slice of data between 20170803 to 20170806 for columns C and D\n",
    "df.loc[\"20170803\":\"20170806\", ['C', 'D']]"
   ]
  },
  {
   "cell_type": "code",
   "execution_count": 46,
   "metadata": {
    "collapsed": false
   },
   "outputs": [
    {
     "data": {
      "text/plain": [
       "-0.054625332334633389"
      ]
     },
     "execution_count": 46,
     "metadata": {},
     "output_type": "execute_result"
    }
   ],
   "source": [
    "# For getting a scalar value, you can use df.loc['20170802', 'A'], but using df.at is much faster.\n",
    "# Datetime object should be given as a key in the df.at[] function.\n",
    "df.at[dates[0], 'B']"
   ]
  },
  {
   "cell_type": "markdown",
   "metadata": {},
   "source": [
    "**Selection by position**"
   ]
  },
  {
   "cell_type": "code",
   "execution_count": 50,
   "metadata": {
    "collapsed": false
   },
   "outputs": [
    {
     "data": {
      "text/html": [
       "<div>\n",
       "<style>\n",
       "    .dataframe thead tr:only-child th {\n",
       "        text-align: right;\n",
       "    }\n",
       "\n",
       "    .dataframe thead th {\n",
       "        text-align: left;\n",
       "    }\n",
       "\n",
       "    .dataframe tbody tr th {\n",
       "        vertical-align: top;\n",
       "    }\n",
       "</style>\n",
       "<table border=\"1\" class=\"dataframe\">\n",
       "  <thead>\n",
       "    <tr style=\"text-align: right;\">\n",
       "      <th></th>\n",
       "      <th>A</th>\n",
       "      <th>B</th>\n",
       "    </tr>\n",
       "  </thead>\n",
       "  <tbody>\n",
       "    <tr>\n",
       "      <th>2017-08-04</th>\n",
       "      <td>-0.416511</td>\n",
       "      <td>-0.330740</td>\n",
       "    </tr>\n",
       "    <tr>\n",
       "      <th>2017-08-05</th>\n",
       "      <td>0.530754</td>\n",
       "      <td>-1.279534</td>\n",
       "    </tr>\n",
       "  </tbody>\n",
       "</table>\n",
       "</div>"
      ],
      "text/plain": [
       "                   A         B\n",
       "2017-08-04 -0.416511 -0.330740\n",
       "2017-08-05  0.530754 -1.279534"
      ]
     },
     "execution_count": 50,
     "metadata": {},
     "output_type": "execute_result"
    }
   ],
   "source": [
    "df.iloc[3:5,0:2]"
   ]
  },
  {
   "cell_type": "code",
   "execution_count": null,
   "metadata": {
    "collapsed": true
   },
   "outputs": [],
   "source": []
  }
 ],
 "metadata": {
  "kernelspec": {
   "display_name": "Python 3",
   "language": "python",
   "name": "python3"
  },
  "language_info": {
   "codemirror_mode": {
    "name": "ipython",
    "version": 3
   },
   "file_extension": ".py",
   "mimetype": "text/x-python",
   "name": "python",
   "nbconvert_exporter": "python",
   "pygments_lexer": "ipython3",
   "version": "3.5.1"
  }
 },
 "nbformat": 4,
 "nbformat_minor": 0
}
